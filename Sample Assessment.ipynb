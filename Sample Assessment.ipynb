{
 "metadata": {
  "name": ""
 },
 "nbformat": 3,
 "nbformat_minor": 0,
 "worksheets": [
  {
   "cells": [
    {
     "cell_type": "markdown",
     "metadata": {},
     "source": [
      "#Using CSS identifiers to disambiguate affiliate programs\n",
      "\n",
      "Affiliate programs sponsor sellers to market their goods on independently hosted (or hijacked) websites. The programs generally maintain a roster of website templates that are available for marketers to use. This is an experiment that tests whether css classes and ids can be used to cluster affiliate marketing website templates into their parent affiliate program. This could be done if and only if templates for any given affiliate program followed a similar \"meta-template\" that reused classes and ids."
     ]
    },
    {
     "cell_type": "markdown",
     "metadata": {},
     "source": [
      "##Methodology\n",
      "See `compute-css-similarity.py` and `simscores.py` for exact implemnetation.\n",
      "\n",
      "All css `class` and `id` attributes are extracted from tags in a file, and stored in separate data structures. The pairwise Jaccard similarity is computed between all pairs of files, across unique classes and ids, and the results are stored in columns named `class_score` and `id_score`. To prevent division by zero errors on websites where there were no `class` or `id`, the denominator was smoothed by adding 1.\n",
      "\n",
      "##Data loading"
     ]
    },
    {
     "cell_type": "code",
     "collapsed": false,
     "input": [
      "import pandas as pd\n",
      "\n",
      "df = pd.read_csv('data/small_sample/simscores3.csv', names=['fn1', 'fn2', 'class_score', 'id_score'])\n",
      "tags = pd.read_csv('data/damon_sample/pharma_sample.dat', sep='\\t', names=['id', 'fn', 'url', 'affiliate'])"
     ],
     "language": "python",
     "metadata": {},
     "outputs": [],
     "prompt_number": 44
    },
    {
     "cell_type": "code",
     "collapsed": false,
     "input": [
      "# Jaccard similarities\n",
      "\n",
      "df['fn1'] = df['fn1'].str.rstrip('.html')\n",
      "df['fn2'] = df['fn2'].str.rstrip('.html')\n",
      "\n",
      "df.head()"
     ],
     "language": "python",
     "metadata": {},
     "outputs": [
      {
       "html": [
        "<div style=\"max-height:1000px;max-width:1500px;overflow:auto;\">\n",
        "<table border=\"1\" class=\"dataframe\">\n",
        "  <thead>\n",
        "    <tr style=\"text-align: right;\">\n",
        "      <th></th>\n",
        "      <th>fn1</th>\n",
        "      <th>fn2</th>\n",
        "      <th>class_score</th>\n",
        "      <th>id_score</th>\n",
        "    </tr>\n",
        "  </thead>\n",
        "  <tbody>\n",
        "    <tr>\n",
        "      <th>0</th>\n",
        "      <td>041d877cc3efca791ef49b2684d39ff7</td>\n",
        "      <td>01dac569a3b30a0f49ae8f076009b592</td>\n",
        "      <td>0.000000</td>\n",
        "      <td>0.058824</td>\n",
        "    </tr>\n",
        "    <tr>\n",
        "      <th>1</th>\n",
        "      <td>041d877cc3efca791ef49b2684d39ff7</td>\n",
        "      <td>c142052560d6afc77a987e0f501e76b3</td>\n",
        "      <td>0.222222</td>\n",
        "      <td>0.266667</td>\n",
        "    </tr>\n",
        "    <tr>\n",
        "      <th>2</th>\n",
        "      <td>041d877cc3efca791ef49b2684d39ff7</td>\n",
        "      <td>00f8a5a986f831133ed29ef6bab1a28e</td>\n",
        "      <td>0.058824</td>\n",
        "      <td>0.012048</td>\n",
        "    </tr>\n",
        "    <tr>\n",
        "      <th>3</th>\n",
        "      <td>041d877cc3efca791ef49b2684d39ff7</td>\n",
        "      <td>015067ac6d378022c10d480fe2fafeb3</td>\n",
        "      <td>0.016949</td>\n",
        "      <td>0.057971</td>\n",
        "    </tr>\n",
        "    <tr>\n",
        "      <th>4</th>\n",
        "      <td>041d877cc3efca791ef49b2684d39ff7</td>\n",
        "      <td>03fbc0a1f1fb35870ced816f8129b044</td>\n",
        "      <td>0.000000</td>\n",
        "      <td>0.000000</td>\n",
        "    </tr>\n",
        "  </tbody>\n",
        "</table>\n",
        "</div>"
       ],
       "metadata": {},
       "output_type": "pyout",
       "prompt_number": 45,
       "text": [
        "                                fn1                               fn2  \\\n",
        "0  041d877cc3efca791ef49b2684d39ff7  01dac569a3b30a0f49ae8f076009b592   \n",
        "1  041d877cc3efca791ef49b2684d39ff7  c142052560d6afc77a987e0f501e76b3   \n",
        "2  041d877cc3efca791ef49b2684d39ff7  00f8a5a986f831133ed29ef6bab1a28e   \n",
        "3  041d877cc3efca791ef49b2684d39ff7  015067ac6d378022c10d480fe2fafeb3   \n",
        "4  041d877cc3efca791ef49b2684d39ff7  03fbc0a1f1fb35870ced816f8129b044   \n",
        "\n",
        "   class_score  id_score  \n",
        "0     0.000000  0.058824  \n",
        "1     0.222222  0.266667  \n",
        "2     0.058824  0.012048  \n",
        "3     0.016949  0.057971  \n",
        "4     0.000000  0.000000  "
       ]
      }
     ],
     "prompt_number": 45
    },
    {
     "cell_type": "code",
     "collapsed": false,
     "input": [
      "len(df.fn1.unique()), len(df.fn2.unique()), len(df)"
     ],
     "language": "python",
     "metadata": {},
     "outputs": [
      {
       "metadata": {},
       "output_type": "pyout",
       "prompt_number": 46,
       "text": [
        "(1124, 1124, 632250)"
       ]
      }
     ],
     "prompt_number": 46
    },
    {
     "cell_type": "markdown",
     "metadata": {},
     "source": [
      "This was done over a sample of 1124 sites from the UCSD ground truth spam data. Each row of the data itself is a pair between sites, so in total, is 632,250 rows."
     ]
    },
    {
     "cell_type": "code",
     "collapsed": false,
     "input": [
      "# Truth data\n",
      "tags.head()"
     ],
     "language": "python",
     "metadata": {},
     "outputs": [
      {
       "html": [
        "<div style=\"max-height:1000px;max-width:1500px;overflow:auto;\">\n",
        "<table border=\"1\" class=\"dataframe\">\n",
        "  <thead>\n",
        "    <tr style=\"text-align: right;\">\n",
        "      <th></th>\n",
        "      <th>id</th>\n",
        "      <th>fn</th>\n",
        "      <th>url</th>\n",
        "      <th>affiliate</th>\n",
        "    </tr>\n",
        "  </thead>\n",
        "  <tbody>\n",
        "    <tr>\n",
        "      <th>0</th>\n",
        "      <td>1</td>\n",
        "      <td>27048662974a61b8352a40b11f9ad1b4</td>\n",
        "      <td>http://squesotbyc.com</td>\n",
        "      <td>102</td>\n",
        "    </tr>\n",
        "    <tr>\n",
        "      <th>1</th>\n",
        "      <td>2</td>\n",
        "      <td>0d4035c39f42ea082e8b877c91b19773</td>\n",
        "      <td>http://www.tabletscheaprxmeds.com/?cid=bname</td>\n",
        "      <td>102</td>\n",
        "    </tr>\n",
        "    <tr>\n",
        "      <th>2</th>\n",
        "      <td>3</td>\n",
        "      <td>d5b54342994a335507e5820a249c7b54</td>\n",
        "      <td>http://imdrugstore.com</td>\n",
        "      <td>114</td>\n",
        "    </tr>\n",
        "    <tr>\n",
        "      <th>3</th>\n",
        "      <td>4</td>\n",
        "      <td>54ae846bb45f4104fdfb990d44ec33a2</td>\n",
        "      <td>http://www.medicwn.com/</td>\n",
        "      <td>114</td>\n",
        "    </tr>\n",
        "    <tr>\n",
        "      <th>4</th>\n",
        "      <td>5</td>\n",
        "      <td>c8c52ca6d843ac43697ac0ef39892ab3</td>\n",
        "      <td>http://www.encomedic.com/</td>\n",
        "      <td>114</td>\n",
        "    </tr>\n",
        "  </tbody>\n",
        "</table>\n",
        "</div>"
       ],
       "metadata": {},
       "output_type": "pyout",
       "prompt_number": 47,
       "text": [
        "   id                                fn  \\\n",
        "0   1  27048662974a61b8352a40b11f9ad1b4   \n",
        "1   2  0d4035c39f42ea082e8b877c91b19773   \n",
        "2   3  d5b54342994a335507e5820a249c7b54   \n",
        "3   4  54ae846bb45f4104fdfb990d44ec33a2   \n",
        "4   5  c8c52ca6d843ac43697ac0ef39892ab3   \n",
        "\n",
        "                                            url  affiliate  \n",
        "0                         http://squesotbyc.com        102  \n",
        "1  http://www.tabletscheaprxmeds.com/?cid=bname        102  \n",
        "2                        http://imdrugstore.com        114  \n",
        "3                       http://www.medicwn.com/        114  \n",
        "4                     http://www.encomedic.com/        114  "
       ]
      }
     ],
     "prompt_number": 47
    },
    {
     "cell_type": "code",
     "collapsed": false,
     "input": [
      "# Merging similarity scores with truth data\n",
      "\n",
      "left_data = pd.merge(df, tags, left_on='fn1', right_on='fn')\n",
      "all_data = pd.merge(left_data, tags, left_on='fn2', right_on='fn')\n",
      "\n",
      "all_data.drop(['fn_x', 'fn_y', 'id_x', 'id_y'], axis=1, inplace=True)\n",
      "\n",
      "# Generate columns indicating whether pairs of files were from the same affiliate\n",
      "\n",
      "all_data['same_site'] = all_data['url_x'] == all_data['url_y']\n",
      "all_data['same_affiliate'] = all_data['affiliate_x'] == all_data['affiliate_y']\n",
      "\n",
      "all_data.head()"
     ],
     "language": "python",
     "metadata": {},
     "outputs": [
      {
       "html": [
        "<div style=\"max-height:1000px;max-width:1500px;overflow:auto;\">\n",
        "<table border=\"1\" class=\"dataframe\">\n",
        "  <thead>\n",
        "    <tr style=\"text-align: right;\">\n",
        "      <th></th>\n",
        "      <th>fn1</th>\n",
        "      <th>fn2</th>\n",
        "      <th>class_score</th>\n",
        "      <th>id_score</th>\n",
        "      <th>url_x</th>\n",
        "      <th>affiliate_x</th>\n",
        "      <th>url_y</th>\n",
        "      <th>affiliate_y</th>\n",
        "      <th>same_site</th>\n",
        "      <th>same_affiliate</th>\n",
        "    </tr>\n",
        "  </thead>\n",
        "  <tbody>\n",
        "    <tr>\n",
        "      <th>0</th>\n",
        "      <td>041d877cc3efca791ef49b2684d39ff7</td>\n",
        "      <td>01dac569a3b30a0f49ae8f076009b592</td>\n",
        "      <td>0.000000</td>\n",
        "      <td>0.058824</td>\n",
        "      <td>http://mysororitysite.com</td>\n",
        "      <td>102</td>\n",
        "      <td>http://www.pharmacyen.com/</td>\n",
        "      <td>114</td>\n",
        "      <td>False</td>\n",
        "      <td>False</td>\n",
        "    </tr>\n",
        "    <tr>\n",
        "      <th>1</th>\n",
        "      <td>041d877cc3efca791ef49b2684d39ff7</td>\n",
        "      <td>c142052560d6afc77a987e0f501e76b3</td>\n",
        "      <td>0.222222</td>\n",
        "      <td>0.266667</td>\n",
        "      <td>http://mysororitysite.com</td>\n",
        "      <td>102</td>\n",
        "      <td>http://workshopsbookbindery.com</td>\n",
        "      <td>102</td>\n",
        "      <td>False</td>\n",
        "      <td>True</td>\n",
        "    </tr>\n",
        "    <tr>\n",
        "      <th>2</th>\n",
        "      <td>01dac569a3b30a0f49ae8f076009b592</td>\n",
        "      <td>c142052560d6afc77a987e0f501e76b3</td>\n",
        "      <td>0.015152</td>\n",
        "      <td>0.015152</td>\n",
        "      <td>http://www.pharmacyen.com/</td>\n",
        "      <td>114</td>\n",
        "      <td>http://workshopsbookbindery.com</td>\n",
        "      <td>102</td>\n",
        "      <td>False</td>\n",
        "      <td>False</td>\n",
        "    </tr>\n",
        "    <tr>\n",
        "      <th>3</th>\n",
        "      <td>041d877cc3efca791ef49b2684d39ff7</td>\n",
        "      <td>00f8a5a986f831133ed29ef6bab1a28e</td>\n",
        "      <td>0.058824</td>\n",
        "      <td>0.012048</td>\n",
        "      <td>http://mysororitysite.com</td>\n",
        "      <td>102</td>\n",
        "      <td>http://www.onlinepharmacygot.com/?two=15891338...</td>\n",
        "      <td>101</td>\n",
        "      <td>False</td>\n",
        "      <td>False</td>\n",
        "    </tr>\n",
        "    <tr>\n",
        "      <th>4</th>\n",
        "      <td>01dac569a3b30a0f49ae8f076009b592</td>\n",
        "      <td>00f8a5a986f831133ed29ef6bab1a28e</td>\n",
        "      <td>0.013158</td>\n",
        "      <td>0.018018</td>\n",
        "      <td>http://www.pharmacyen.com/</td>\n",
        "      <td>114</td>\n",
        "      <td>http://www.onlinepharmacygot.com/?two=15891338...</td>\n",
        "      <td>101</td>\n",
        "      <td>False</td>\n",
        "      <td>False</td>\n",
        "    </tr>\n",
        "  </tbody>\n",
        "</table>\n",
        "</div>"
       ],
       "metadata": {},
       "output_type": "pyout",
       "prompt_number": 48,
       "text": [
        "                                fn1                               fn2  \\\n",
        "0  041d877cc3efca791ef49b2684d39ff7  01dac569a3b30a0f49ae8f076009b592   \n",
        "1  041d877cc3efca791ef49b2684d39ff7  c142052560d6afc77a987e0f501e76b3   \n",
        "2  01dac569a3b30a0f49ae8f076009b592  c142052560d6afc77a987e0f501e76b3   \n",
        "3  041d877cc3efca791ef49b2684d39ff7  00f8a5a986f831133ed29ef6bab1a28e   \n",
        "4  01dac569a3b30a0f49ae8f076009b592  00f8a5a986f831133ed29ef6bab1a28e   \n",
        "\n",
        "   class_score  id_score                       url_x  affiliate_x  \\\n",
        "0     0.000000  0.058824   http://mysororitysite.com          102   \n",
        "1     0.222222  0.266667   http://mysororitysite.com          102   \n",
        "2     0.015152  0.015152  http://www.pharmacyen.com/          114   \n",
        "3     0.058824  0.012048   http://mysororitysite.com          102   \n",
        "4     0.013158  0.018018  http://www.pharmacyen.com/          114   \n",
        "\n",
        "                                               url_y  affiliate_y same_site  \\\n",
        "0                         http://www.pharmacyen.com/          114     False   \n",
        "1                    http://workshopsbookbindery.com          102     False   \n",
        "2                    http://workshopsbookbindery.com          102     False   \n",
        "3  http://www.onlinepharmacygot.com/?two=15891338...          101     False   \n",
        "4  http://www.onlinepharmacygot.com/?two=15891338...          101     False   \n",
        "\n",
        "  same_affiliate  \n",
        "0          False  \n",
        "1           True  \n",
        "2          False  \n",
        "3          False  \n",
        "4          False  "
       ]
      }
     ],
     "prompt_number": 48
    },
    {
     "cell_type": "markdown",
     "metadata": {},
     "source": [
      "##Analysis\n",
      "\n",
      "How well do these Jaccard similarity scores match the truth data? We have to first decide where to draw the line. These plots below show the distribution of Jaccard similarity scores across `class` attributes and `id` attributes."
     ]
    },
    {
     "cell_type": "code",
     "collapsed": false,
     "input": [
      "import seaborn as sns\n",
      "\n",
      "sns.boxplot(all_data.class_score, groupby=all_data.same_affiliate)"
     ],
     "language": "python",
     "metadata": {},
     "outputs": [
      {
       "metadata": {},
       "output_type": "pyout",
       "prompt_number": 49,
       "text": [
        "<matplotlib.axes._subplots.AxesSubplot at 0x7fa31c94be10>"
       ]
      },
      {
       "metadata": {},
       "output_type": "display_data",
       "png": "[encoded data removed]",
       "text": [
        "<matplotlib.figure.Figure at 0x7fa3238aa250>"
       ]
      }
     ],
     "prompt_number": 49
    },
    {
     "cell_type": "code",
     "collapsed": false,
     "input": [
      "sns.boxplot(all_data.id_score, groupby=all_data.same_affiliate)"
     ],
     "language": "python",
     "metadata": {},
     "outputs": [
      {
       "metadata": {},
       "output_type": "pyout",
       "prompt_number": 50,
       "text": [
        "<matplotlib.axes._subplots.AxesSubplot at 0x7fa31d004d10>"
       ]
      },
      {
       "metadata": {},
       "output_type": "display_data",
       "png": "[encoded data removed]",
       "text": [
        "<matplotlib.figure.Figure at 0x7fa31cffadd0>"
       ]
      }
     ],
     "prompt_number": 50
    },
    {
     "cell_type": "code",
     "collapsed": false,
     "input": [
      "all_data[~all_data.same_affiliate].class_score.describe()"
     ],
     "language": "python",
     "metadata": {},
     "outputs": [
      {
       "metadata": {},
       "output_type": "pyout",
       "prompt_number": 20,
       "text": [
        "count    880478.000000\n",
        "mean          0.010496\n",
        "std           0.017545\n",
        "min           0.000000\n",
        "25%           0.000000\n",
        "50%           0.000000\n",
        "75%           0.015873\n",
        "max           0.188119\n",
        "Name: class_score, dtype: float64"
       ]
      }
     ],
     "prompt_number": 20
    },
    {
     "cell_type": "markdown",
     "metadata": {},
     "source": [
      "Websites from different affiliate programs rarely overlap more than 0.1 in `class` attributes, and no more than 0.2 in `id`. In general, `class` is a more robust signal, but they can be combined (as done below).\n",
      "\n",
      "We can be extremely confident that sites with high Jaccard scores to be from the same affiliate program. However, as can be seen in the overlap over the low end of the scores above, we cannot be as certain when a pair of sites have low Jaccard similarity."
     ]
    },
    {
     "cell_type": "code",
     "collapsed": false,
     "input": [
      "all_data['predicted_same_affiliate'] = (all_data.class_score > 0.1) | (all_data.id_score > 0.2)\n",
      "\n",
      "# Recall:\n",
      "all_data[all_data.predicted_same_affiliate].same_affiliate.sum() / float(all_data.same_affiliate.sum())"
     ],
     "language": "python",
     "metadata": {},
     "outputs": [
      {
       "metadata": {},
       "output_type": "pyout",
       "prompt_number": 51,
       "text": [
        "0.84452142249125128"
       ]
      }
     ],
     "prompt_number": 51
    },
    {
     "cell_type": "code",
     "collapsed": false,
     "input": [
      "# Precision:\n",
      "all_data[all_data.predicted_same_affiliate].same_affiliate.sum() / float(all_data.predicted_same_affiliate.sum())"
     ],
     "language": "python",
     "metadata": {},
     "outputs": [
      {
       "metadata": {},
       "output_type": "pyout",
       "prompt_number": 52,
       "text": [
        "0.9863166905998012"
       ]
      }
     ],
     "prompt_number": 52
    },
    {
     "cell_type": "markdown",
     "metadata": {},
     "source": [
      "##Discussion\n",
      "\n",
      "Is there a pattern among which affiliate programs are less identifiable by css identifiers? The first column below is a numerical ID representing the program, and the second is the proportion of pairs of websites from that program that were correctly identified as being from the same site. The affiliate program these numerical IDs are associated with can be found in `tag2name.map`."
     ]
    },
    {
     "cell_type": "code",
     "collapsed": false,
     "input": [
      "pd.concat?"
     ],
     "language": "python",
     "metadata": {},
     "outputs": [],
     "prompt_number": 100
    },
    {
     "cell_type": "code",
     "collapsed": false,
     "input": [
      "aff_program_scores = (all_data[all_data.same_affiliate & all_data.predicted_same_affiliate].affiliate_x.value_counts() / \\\n",
      "all_data[all_data.same_affiliate].affiliate_x.value_counts()).reset_index()\n",
      "\n",
      "aff_program_scores.rename(columns={0: 'proportion_correct'}, inplace=True)\n",
      "aff_program_scores = pd.merge(aff_program_scores, all_data[all_data.same_affiliate].affiliate_x.value_counts().reset_index(),\n",
      "                               left_on='index',\n",
      "                               right_on='index')\n",
      "aff_program_scores.rename(columns={0: 'count'}, inplace=True)"
     ],
     "language": "python",
     "metadata": {},
     "outputs": [],
     "prompt_number": 103
    },
    {
     "cell_type": "code",
     "collapsed": false,
     "input": [
      "aff_program_scores"
     ],
     "language": "python",
     "metadata": {},
     "outputs": [
      {
       "html": [
        "<div style=\"max-height:1000px;max-width:1500px;overflow:auto;\">\n",
        "<table border=\"1\" class=\"dataframe\">\n",
        "  <thead>\n",
        "    <tr style=\"text-align: right;\">\n",
        "      <th></th>\n",
        "      <th>index</th>\n",
        "      <th>proportion_correct</th>\n",
        "      <th>count</th>\n",
        "    </tr>\n",
        "  </thead>\n",
        "  <tbody>\n",
        "    <tr>\n",
        "      <th>0</th>\n",
        "      <td>101</td>\n",
        "      <td>0.407756</td>\n",
        "      <td>15730</td>\n",
        "    </tr>\n",
        "    <tr>\n",
        "      <th>1</th>\n",
        "      <td>102</td>\n",
        "      <td>0.966432</td>\n",
        "      <td>16653</td>\n",
        "    </tr>\n",
        "    <tr>\n",
        "      <th>2</th>\n",
        "      <td>104</td>\n",
        "      <td>0.823580</td>\n",
        "      <td>15225</td>\n",
        "    </tr>\n",
        "    <tr>\n",
        "      <th>3</th>\n",
        "      <td>108</td>\n",
        "      <td>1.000000</td>\n",
        "      <td>4635</td>\n",
        "    </tr>\n",
        "    <tr>\n",
        "      <th>4</th>\n",
        "      <td>109</td>\n",
        "      <td>0.977718</td>\n",
        "      <td>11175</td>\n",
        "    </tr>\n",
        "    <tr>\n",
        "      <th>5</th>\n",
        "      <td>114</td>\n",
        "      <td>1.000000</td>\n",
        "      <td>13695</td>\n",
        "    </tr>\n",
        "    <tr>\n",
        "      <th>6</th>\n",
        "      <td>122</td>\n",
        "      <td>1.000000</td>\n",
        "      <td>5</td>\n",
        "    </tr>\n",
        "    <tr>\n",
        "      <th>7</th>\n",
        "      <td>123</td>\n",
        "      <td>1.000000</td>\n",
        "      <td>6540</td>\n",
        "    </tr>\n",
        "    <tr>\n",
        "      <th>8</th>\n",
        "      <td>129</td>\n",
        "      <td>0.333333</td>\n",
        "      <td>3</td>\n",
        "    </tr>\n",
        "    <tr>\n",
        "      <th>9</th>\n",
        "      <td>131</td>\n",
        "      <td>0.461905</td>\n",
        "      <td>630</td>\n",
        "    </tr>\n",
        "    <tr>\n",
        "      <th>10</th>\n",
        "      <td>132</td>\n",
        "      <td>1.000000</td>\n",
        "      <td>190</td>\n",
        "    </tr>\n",
        "    <tr>\n",
        "      <th>11</th>\n",
        "      <td>140</td>\n",
        "      <td>1.000000</td>\n",
        "      <td>3</td>\n",
        "    </tr>\n",
        "    <tr>\n",
        "      <th>12</th>\n",
        "      <td>147</td>\n",
        "      <td>1.000000</td>\n",
        "      <td>6</td>\n",
        "    </tr>\n",
        "    <tr>\n",
        "      <th>13</th>\n",
        "      <td>150</td>\n",
        "      <td>1.000000</td>\n",
        "      <td>91</td>\n",
        "    </tr>\n",
        "    <tr>\n",
        "      <th>14</th>\n",
        "      <td>154</td>\n",
        "      <td>1.000000</td>\n",
        "      <td>3</td>\n",
        "    </tr>\n",
        "  </tbody>\n",
        "</table>\n",
        "</div>"
       ],
       "metadata": {},
       "output_type": "pyout",
       "prompt_number": 104,
       "text": [
        "    index  proportion_correct  count\n",
        "0     101            0.407756  15730\n",
        "1     102            0.966432  16653\n",
        "2     104            0.823580  15225\n",
        "3     108            1.000000   4635\n",
        "4     109            0.977718  11175\n",
        "5     114            1.000000  13695\n",
        "6     122            1.000000      5\n",
        "7     123            1.000000   6540\n",
        "8     129            0.333333      3\n",
        "9     131            0.461905    630\n",
        "10    132            1.000000    190\n",
        "11    140            1.000000      3\n",
        "12    147            1.000000      6\n",
        "13    150            1.000000     91\n",
        "14    154            1.000000      3"
       ]
      }
     ],
     "prompt_number": 104
    },
    {
     "cell_type": "markdown",
     "metadata": {},
     "source": [
      "It appears that certain affiliate programs constitute much more of the overall error than others. Program `101`, GlavMed, is the overall largest sources of error. The other large programs, `102`, `104`, `109`, and `114`, all perform with above 80% accuracy.\n",
      "\n",
      "Note that these are pairwise scores. Next steps could be to aggregate ratings to the website level, using a voting system based off its pairwise scores."
     ]
    }
   ],
   "metadata": {}
  }
 ]
}