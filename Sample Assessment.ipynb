{
 "metadata": {
  "name": ""
 },
 "nbformat": 3,
 "nbformat_minor": 0,
 "worksheets": [
  {
   "cells": [
    {
     "cell_type": "markdown",
     "metadata": {},
     "source": [
      "#Using CSS identifiers to disambiguate affiliate programs\n",
      "\n",
      "Affiliate programs sponsor sellers to market their goods on independently hosted (or hijacked) websites. The programs generally maintain a roster of website templates that are available for marketers to use. This is an experiment that tests whether css classes and ids can be used to cluster affiliate marketing website templates into their parent affiliate program. This could be done if and only if templates for any given affiliate program followed a similar \"meta-template\" that reused classes and ids."
     ]
    },
    {
     "cell_type": "markdown",
     "metadata": {},
     "source": [
      "##Methodology\n",
      "See `compute-css-similarity.py` and `simscores.py` for exact implemnetation.\n",
      "\n",
      "All css `class` and `id` attributes are extracted from tags in a file, and stored in separate data structures. The pairwise Jaccard similarity is computed between all pairs of files, across unique classes and ids, and the results are stored in columns named `class_score` and `id_score`. To prevent division by zero errors on websites where there were no `class` or `id`, the denominator was smoothed by adding 1.\n",
      "\n",
      "##Data loading"
     ]
    },
    {
     "cell_type": "code",
     "collapsed": false,
     "input": [
      "import pandas as pd\n",
      "\n",
      "df = pd.read_csv('data/small_sample/simscores2.csv', names=['fn1', 'fn2', 'class_score', 'id_score'])\n",
      "tags = pd.read_csv('data/damon_sample/pharma_sample.dat', sep='\\t', names=['id', 'fn', 'url', 'affiliate'])"
     ],
     "language": "python",
     "metadata": {},
     "outputs": [],
     "prompt_number": 33
    },
    {
     "cell_type": "code",
     "collapsed": false,
     "input": [
      "# Jaccard similarities\n",
      "\n",
      "df['fn1'] = df['fn1'].str.rstrip('.html')\n",
      "df['fn2'] = df['fn2'].str.rstrip('.html')\n",
      "\n",
      "df.head()"
     ],
     "language": "python",
     "metadata": {},
     "outputs": [
      {
       "html": [
        "<div style=\"max-height:1000px;max-width:1500px;overflow:auto;\">\n",
        "<table border=\"1\" class=\"dataframe\">\n",
        "  <thead>\n",
        "    <tr style=\"text-align: right;\">\n",
        "      <th></th>\n",
        "      <th>fn1</th>\n",
        "      <th>fn2</th>\n",
        "      <th>class_score</th>\n",
        "      <th>id_score</th>\n",
        "    </tr>\n",
        "  </thead>\n",
        "  <tbody>\n",
        "    <tr>\n",
        "      <th>0</th>\n",
        "      <td>01dac569a3b30a0f49ae8f076009b592</td>\n",
        "      <td>c142052560d6afc77a987e0f501e76b3</td>\n",
        "      <td>0.015152</td>\n",
        "      <td>0.015152</td>\n",
        "    </tr>\n",
        "    <tr>\n",
        "      <th>1</th>\n",
        "      <td>01dac569a3b30a0f49ae8f076009b592</td>\n",
        "      <td>00f8a5a986f831133ed29ef6bab1a28e</td>\n",
        "      <td>0.013158</td>\n",
        "      <td>0.018018</td>\n",
        "    </tr>\n",
        "    <tr>\n",
        "      <th>2</th>\n",
        "      <td>01dac569a3b30a0f49ae8f076009b592</td>\n",
        "      <td>015067ac6d378022c10d480fe2fafeb3</td>\n",
        "      <td>0.627451</td>\n",
        "      <td>0.924528</td>\n",
        "    </tr>\n",
        "    <tr>\n",
        "      <th>3</th>\n",
        "      <td>01dac569a3b30a0f49ae8f076009b592</td>\n",
        "      <td>0186b85e56f5e021697b6acedab8da8d</td>\n",
        "      <td>0.000000</td>\n",
        "      <td>0.000000</td>\n",
        "    </tr>\n",
        "    <tr>\n",
        "      <th>4</th>\n",
        "      <td>01dac569a3b30a0f49ae8f076009b592</td>\n",
        "      <td>c18f2a4d150760eb0b8cf1dd1afde1c4</td>\n",
        "      <td>0.015152</td>\n",
        "      <td>0.015152</td>\n",
        "    </tr>\n",
        "  </tbody>\n",
        "</table>\n",
        "</div>"
       ],
       "metadata": {},
       "output_type": "pyout",
       "prompt_number": 34,
       "text": [
        "                                fn1                               fn2  \\\n",
        "0  01dac569a3b30a0f49ae8f076009b592  c142052560d6afc77a987e0f501e76b3   \n",
        "1  01dac569a3b30a0f49ae8f076009b592  00f8a5a986f831133ed29ef6bab1a28e   \n",
        "2  01dac569a3b30a0f49ae8f076009b592  015067ac6d378022c10d480fe2fafeb3   \n",
        "3  01dac569a3b30a0f49ae8f076009b592  0186b85e56f5e021697b6acedab8da8d   \n",
        "4  01dac569a3b30a0f49ae8f076009b592  c18f2a4d150760eb0b8cf1dd1afde1c4   \n",
        "\n",
        "   class_score  id_score  \n",
        "0     0.015152  0.015152  \n",
        "1     0.013158  0.018018  \n",
        "2     0.627451  0.924528  \n",
        "3     0.000000  0.000000  \n",
        "4     0.015152  0.015152  "
       ]
      }
     ],
     "prompt_number": 34
    },
    {
     "cell_type": "code",
     "collapsed": false,
     "input": [
      "len(df.fn1.unique()), len(df.fn2.unique()), len(df)"
     ],
     "language": "python",
     "metadata": {},
     "outputs": [
      {
       "metadata": {},
       "output_type": "pyout",
       "prompt_number": 35,
       "text": [
        "(539, 539, 145530)"
       ]
      }
     ],
     "prompt_number": 35
    },
    {
     "cell_type": "markdown",
     "metadata": {},
     "source": [
      "This was done over a sample of 539 sites from the UCSD ground truth spam data. Each row of the data itself is a pair between sites, so in total, is 145530 rows."
     ]
    },
    {
     "cell_type": "code",
     "collapsed": false,
     "input": [
      "# Truth data\n",
      "tags.head()"
     ],
     "language": "python",
     "metadata": {},
     "outputs": [
      {
       "html": [
        "<div style=\"max-height:1000px;max-width:1500px;overflow:auto;\">\n",
        "<table border=\"1\" class=\"dataframe\">\n",
        "  <thead>\n",
        "    <tr style=\"text-align: right;\">\n",
        "      <th></th>\n",
        "      <th>id</th>\n",
        "      <th>fn</th>\n",
        "      <th>url</th>\n",
        "      <th>affiliate</th>\n",
        "    </tr>\n",
        "  </thead>\n",
        "  <tbody>\n",
        "    <tr>\n",
        "      <th>0</th>\n",
        "      <td>1</td>\n",
        "      <td>27048662974a61b8352a40b11f9ad1b4</td>\n",
        "      <td>http://squesotbyc.com</td>\n",
        "      <td>102</td>\n",
        "    </tr>\n",
        "    <tr>\n",
        "      <th>1</th>\n",
        "      <td>2</td>\n",
        "      <td>0d4035c39f42ea082e8b877c91b19773</td>\n",
        "      <td>http://www.tabletscheaprxmeds.com/?cid=bname</td>\n",
        "      <td>102</td>\n",
        "    </tr>\n",
        "    <tr>\n",
        "      <th>2</th>\n",
        "      <td>3</td>\n",
        "      <td>d5b54342994a335507e5820a249c7b54</td>\n",
        "      <td>http://imdrugstore.com</td>\n",
        "      <td>114</td>\n",
        "    </tr>\n",
        "    <tr>\n",
        "      <th>3</th>\n",
        "      <td>4</td>\n",
        "      <td>54ae846bb45f4104fdfb990d44ec33a2</td>\n",
        "      <td>http://www.medicwn.com/</td>\n",
        "      <td>114</td>\n",
        "    </tr>\n",
        "    <tr>\n",
        "      <th>4</th>\n",
        "      <td>5</td>\n",
        "      <td>c8c52ca6d843ac43697ac0ef39892ab3</td>\n",
        "      <td>http://www.encomedic.com/</td>\n",
        "      <td>114</td>\n",
        "    </tr>\n",
        "  </tbody>\n",
        "</table>\n",
        "</div>"
       ],
       "metadata": {},
       "output_type": "pyout",
       "prompt_number": 36,
       "text": [
        "   id                                fn  \\\n",
        "0   1  27048662974a61b8352a40b11f9ad1b4   \n",
        "1   2  0d4035c39f42ea082e8b877c91b19773   \n",
        "2   3  d5b54342994a335507e5820a249c7b54   \n",
        "3   4  54ae846bb45f4104fdfb990d44ec33a2   \n",
        "4   5  c8c52ca6d843ac43697ac0ef39892ab3   \n",
        "\n",
        "                                            url  affiliate  \n",
        "0                         http://squesotbyc.com        102  \n",
        "1  http://www.tabletscheaprxmeds.com/?cid=bname        102  \n",
        "2                        http://imdrugstore.com        114  \n",
        "3                       http://www.medicwn.com/        114  \n",
        "4                     http://www.encomedic.com/        114  "
       ]
      }
     ],
     "prompt_number": 36
    },
    {
     "cell_type": "code",
     "collapsed": false,
     "input": [
      "# Merging similarity scores with truth data\n",
      "\n",
      "left_data = pd.merge(df, tags, left_on='fn1', right_on='fn')\n",
      "all_data = pd.merge(left_data, tags, left_on='fn2', right_on='fn')\n",
      "\n",
      "all_data.drop(['fn_x', 'fn_y', 'id_x', 'id_y'], axis=1, inplace=True)\n",
      "\n",
      "# Generate columns indicating whether pairs of files were from the same affiliate\n",
      "\n",
      "all_data['same_site'] = all_data['url_x'] == all_data['url_y']\n",
      "all_data['same_affiliate'] = all_data['affiliate_x'] == all_data['affiliate_y']\n",
      "\n",
      "all_data.head()"
     ],
     "language": "python",
     "metadata": {},
     "outputs": [
      {
       "html": [
        "<div style=\"max-height:1000px;max-width:1500px;overflow:auto;\">\n",
        "<table border=\"1\" class=\"dataframe\">\n",
        "  <thead>\n",
        "    <tr style=\"text-align: right;\">\n",
        "      <th></th>\n",
        "      <th>fn1</th>\n",
        "      <th>fn2</th>\n",
        "      <th>class_score</th>\n",
        "      <th>id_score</th>\n",
        "      <th>url_x</th>\n",
        "      <th>affiliate_x</th>\n",
        "      <th>url_y</th>\n",
        "      <th>affiliate_y</th>\n",
        "      <th>same_site</th>\n",
        "      <th>same_affiliate</th>\n",
        "    </tr>\n",
        "  </thead>\n",
        "  <tbody>\n",
        "    <tr>\n",
        "      <th>0</th>\n",
        "      <td>01dac569a3b30a0f49ae8f076009b592</td>\n",
        "      <td>c142052560d6afc77a987e0f501e76b3</td>\n",
        "      <td>0.015152</td>\n",
        "      <td>0.015152</td>\n",
        "      <td>http://www.pharmacyen.com/</td>\n",
        "      <td>114</td>\n",
        "      <td>http://workshopsbookbindery.com</td>\n",
        "      <td>102</td>\n",
        "      <td>False</td>\n",
        "      <td>False</td>\n",
        "    </tr>\n",
        "    <tr>\n",
        "      <th>1</th>\n",
        "      <td>01dac569a3b30a0f49ae8f076009b592</td>\n",
        "      <td>00f8a5a986f831133ed29ef6bab1a28e</td>\n",
        "      <td>0.013158</td>\n",
        "      <td>0.018018</td>\n",
        "      <td>http://www.pharmacyen.com/</td>\n",
        "      <td>114</td>\n",
        "      <td>http://www.onlinepharmacygot.com/?two=15891338...</td>\n",
        "      <td>101</td>\n",
        "      <td>False</td>\n",
        "      <td>False</td>\n",
        "    </tr>\n",
        "    <tr>\n",
        "      <th>2</th>\n",
        "      <td>c142052560d6afc77a987e0f501e76b3</td>\n",
        "      <td>00f8a5a986f831133ed29ef6bab1a28e</td>\n",
        "      <td>0.061538</td>\n",
        "      <td>0.012821</td>\n",
        "      <td>http://workshopsbookbindery.com</td>\n",
        "      <td>102</td>\n",
        "      <td>http://www.onlinepharmacygot.com/?two=15891338...</td>\n",
        "      <td>101</td>\n",
        "      <td>False</td>\n",
        "      <td>False</td>\n",
        "    </tr>\n",
        "    <tr>\n",
        "      <th>3</th>\n",
        "      <td>01dac569a3b30a0f49ae8f076009b592</td>\n",
        "      <td>015067ac6d378022c10d480fe2fafeb3</td>\n",
        "      <td>0.627451</td>\n",
        "      <td>0.924528</td>\n",
        "      <td>http://www.pharmacyen.com/</td>\n",
        "      <td>114</td>\n",
        "      <td>http://ogidoctor.com/</td>\n",
        "      <td>114</td>\n",
        "      <td>False</td>\n",
        "      <td>True</td>\n",
        "    </tr>\n",
        "    <tr>\n",
        "      <th>4</th>\n",
        "      <td>c142052560d6afc77a987e0f501e76b3</td>\n",
        "      <td>015067ac6d378022c10d480fe2fafeb3</td>\n",
        "      <td>0.013514</td>\n",
        "      <td>0.014925</td>\n",
        "      <td>http://workshopsbookbindery.com</td>\n",
        "      <td>102</td>\n",
        "      <td>http://ogidoctor.com/</td>\n",
        "      <td>114</td>\n",
        "      <td>False</td>\n",
        "      <td>False</td>\n",
        "    </tr>\n",
        "  </tbody>\n",
        "</table>\n",
        "</div>"
       ],
       "metadata": {},
       "output_type": "pyout",
       "prompt_number": 37,
       "text": [
        "                                fn1                               fn2  \\\n",
        "0  01dac569a3b30a0f49ae8f076009b592  c142052560d6afc77a987e0f501e76b3   \n",
        "1  01dac569a3b30a0f49ae8f076009b592  00f8a5a986f831133ed29ef6bab1a28e   \n",
        "2  c142052560d6afc77a987e0f501e76b3  00f8a5a986f831133ed29ef6bab1a28e   \n",
        "3  01dac569a3b30a0f49ae8f076009b592  015067ac6d378022c10d480fe2fafeb3   \n",
        "4  c142052560d6afc77a987e0f501e76b3  015067ac6d378022c10d480fe2fafeb3   \n",
        "\n",
        "   class_score  id_score                            url_x  affiliate_x  \\\n",
        "0     0.015152  0.015152       http://www.pharmacyen.com/          114   \n",
        "1     0.013158  0.018018       http://www.pharmacyen.com/          114   \n",
        "2     0.061538  0.012821  http://workshopsbookbindery.com          102   \n",
        "3     0.627451  0.924528       http://www.pharmacyen.com/          114   \n",
        "4     0.013514  0.014925  http://workshopsbookbindery.com          102   \n",
        "\n",
        "                                               url_y  affiliate_y same_site  \\\n",
        "0                    http://workshopsbookbindery.com          102     False   \n",
        "1  http://www.onlinepharmacygot.com/?two=15891338...          101     False   \n",
        "2  http://www.onlinepharmacygot.com/?two=15891338...          101     False   \n",
        "3                              http://ogidoctor.com/          114     False   \n",
        "4                              http://ogidoctor.com/          114     False   \n",
        "\n",
        "  same_affiliate  \n",
        "0          False  \n",
        "1          False  \n",
        "2          False  \n",
        "3           True  \n",
        "4          False  "
       ]
      }
     ],
     "prompt_number": 37
    },
    {
     "cell_type": "markdown",
     "metadata": {},
     "source": [
      "##Analysis\n",
      "\n",
      "How well do these Jaccard similarity scores match the truth data? We have to first decide where to draw the line. These plots below show the distribution of Jaccard similarity scores across `class` attributes and `id` attributes."
     ]
    },
    {
     "cell_type": "code",
     "collapsed": false,
     "input": [
      "import seaborn as sns\n",
      "\n",
      "sns.boxplot(all_data.class_score, groupby=all_data.same_affiliate)"
     ],
     "language": "python",
     "metadata": {},
     "outputs": [
      {
       "metadata": {},
       "output_type": "pyout",
       "prompt_number": 38,
       "text": [
        "<matplotlib.axes._subplots.AxesSubplot at 0x7fa3143e5e10>"
       ]
      },
      {
       "metadata": {},
       "output_type": "display_data",
       "png": "[encoded data removed]",
       "text": [
        "<matplotlib.figure.Figure at 0x7fa32389da10>"
       ]
      }
     ],
     "prompt_number": 38
    },
    {
     "cell_type": "code",
     "collapsed": false,
     "input": [
      "sns.boxplot(all_data.id_score, groupby=all_data.same_affiliate)"
     ],
     "language": "python",
     "metadata": {},
     "outputs": [
      {
       "metadata": {},
       "output_type": "pyout",
       "prompt_number": 39,
       "text": [
        "<matplotlib.axes._subplots.AxesSubplot at 0x7fa312fb9e10>"
       ]
      },
      {
       "metadata": {},
       "output_type": "display_data",
       "png": "[encoded data removed]",
       "text": [
        "<matplotlib.figure.Figure at 0x7fa312fc4ad0>"
       ]
      }
     ],
     "prompt_number": 39
    },
    {
     "cell_type": "markdown",
     "metadata": {},
     "source": [
      "Websites from different affiliate programs rarely overlap more than 0.1 in `class` attributes, and no more than 0.2 in `id`. In general, `class` is a more robust signal, but they can be combined (as done below).\n",
      "\n",
      "We can be extremely confident that sites with high Jaccard scores to be from the same affiliate program. However, as can be seen in the overlap over the low end of the scores above, we cannot be as certain when a pair of sites have low Jaccard similarity."
     ]
    },
    {
     "cell_type": "code",
     "collapsed": false,
     "input": [
      "all_data['predicted_same_affiliate'] = (all_data.class_score > 0.1) | (all_data.id_score > 0.2)\n",
      "\n",
      "# Recall:\n",
      "all_data[all_data.predicted_same_affiliate].same_affiliate.sum() / float(all_data.same_affiliate.sum())"
     ],
     "language": "python",
     "metadata": {},
     "outputs": [
      {
       "metadata": {},
       "output_type": "pyout",
       "prompt_number": 40,
       "text": [
        "0.84400783828382842"
       ]
      }
     ],
     "prompt_number": 40
    },
    {
     "cell_type": "code",
     "collapsed": false,
     "input": [
      "# Precision:\n",
      "all_data[all_data.predicted_same_affiliate].same_affiliate.sum() / float(all_data.predicted_same_affiliate.sum())"
     ],
     "language": "python",
     "metadata": {},
     "outputs": [
      {
       "metadata": {},
       "output_type": "pyout",
       "prompt_number": 41,
       "text": [
        "0.98418520745640414"
       ]
      }
     ],
     "prompt_number": 41
    },
    {
     "cell_type": "markdown",
     "metadata": {},
     "source": [
      "Is there a pattern among which affiliate programs are less identifiable by css identifiers? Note the first column below is a numerical ID representing the program. The affiliate program these numerical IDs are associated with can be found in `tag2name.map`."
     ]
    },
    {
     "cell_type": "code",
     "collapsed": false,
     "input": [
      "all_data[all_data.same_affiliate & all_data.predicted_same_affiliate].affiliate_x.value_counts()"
     ],
     "language": "python",
     "metadata": {},
     "outputs": [
      {
       "metadata": {},
       "output_type": "pyout",
       "prompt_number": 42,
       "text": [
        "114    4371\n",
        "102    3828\n",
        "104    2530\n",
        "109    1871\n",
        "123    1372\n",
        "101    1360\n",
        "108     861\n",
        "131      94\n",
        "132      66\n",
        "150      10\n",
        "140       1\n",
        "147       1\n",
        "154       1\n",
        "129       1\n",
        "dtype: int64"
       ]
      }
     ],
     "prompt_number": 42
    },
    {
     "cell_type": "code",
     "collapsed": false,
     "input": [
      "all_data[all_data.same_affiliate & ~all_data.predicted_same_affiliate].affiliate_x.value_counts()"
     ],
     "language": "python",
     "metadata": {},
     "outputs": [
      {
       "metadata": {},
       "output_type": "pyout",
       "prompt_number": 43,
       "text": [
        "101    1940\n",
        "104     710\n",
        "102     177\n",
        "131     116\n",
        "109      82\n",
        "dtype: int64"
       ]
      }
     ],
     "prompt_number": 43
    }
   ],
   "metadata": {}
  }
 ]
}