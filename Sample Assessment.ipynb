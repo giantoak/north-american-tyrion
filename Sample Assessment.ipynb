{
 "metadata": {
  "name": ""
 },
 "nbformat": 3,
 "nbformat_minor": 0,
 "worksheets": [
  {
   "cells": [
    {
     "cell_type": "markdown",
     "metadata": {},
     "source": [
      "#Using CSS identifiers to disambiguate affiliate programs\n",
      "\n",
      "Affiliate programs sponsor sellers to market their goods on independently hosted (or hijacked) websites. The programs generally maintain a roster of website templates that are available for marketers to use. This is an experiment that tests whether css classes and ids can be used to cluster affiliate marketing website templates into their parent affiliate program. This could be done if and only if templates for any given affiliate program followed a similar \"meta-template\" that reused classes and ids.\n",
      "\n",
      "This was done over a sample of 154 sites from the UCSD ground truth spam data. Each row of the data itself is a pair between sites, so in total, is roughly `154*154/2=11,858` rows."
     ]
    },
    {
     "cell_type": "markdown",
     "metadata": {},
     "source": [
      "##Methodology\n",
      "See `compute-css-similarity.py` and `simscores.py` for exact implemnetation.\n",
      "\n",
      "All css `class` and `id` attributes are extracted from tags in a file, and stored in separate data structures. The pairwise Jaccard similarity is computed between all pairs of files, across unique classes and ids, and the results are stored in columns named `class_score` and `id_score`. To prevent division by zero errors on websites where there were no `class` or `id`, the denominator was smoothed by adding 1.\n",
      "\n",
      "##Data loading"
     ]
    },
    {
     "cell_type": "code",
     "collapsed": false,
     "input": [
      "import pandas as pd\n",
      "\n",
      "df = pd.read_csv('data/small_sample/simscores.csv', names=['fn1', 'fn2', 'class_score', 'id_score'])\n",
      "tags = pd.read_csv('data/damon_sample/pharma_sample.dat', sep='\\t', names=['id', 'fn', 'url', 'affiliate'])"
     ],
     "language": "python",
     "metadata": {},
     "outputs": [],
     "prompt_number": 74
    },
    {
     "cell_type": "code",
     "collapsed": false,
     "input": [
      "# Truth data\n",
      "tags.head()"
     ],
     "language": "python",
     "metadata": {},
     "outputs": [
      {
       "html": [
        "<div style=\"max-height:1000px;max-width:1500px;overflow:auto;\">\n",
        "<table border=\"1\" class=\"dataframe\">\n",
        "  <thead>\n",
        "    <tr style=\"text-align: right;\">\n",
        "      <th></th>\n",
        "      <th>id</th>\n",
        "      <th>fn</th>\n",
        "      <th>url</th>\n",
        "      <th>affiliate</th>\n",
        "    </tr>\n",
        "  </thead>\n",
        "  <tbody>\n",
        "    <tr>\n",
        "      <th>0</th>\n",
        "      <td>1</td>\n",
        "      <td>27048662974a61b8352a40b11f9ad1b4</td>\n",
        "      <td>http://squesotbyc.com</td>\n",
        "      <td>102</td>\n",
        "    </tr>\n",
        "    <tr>\n",
        "      <th>1</th>\n",
        "      <td>2</td>\n",
        "      <td>0d4035c39f42ea082e8b877c91b19773</td>\n",
        "      <td>http://www.tabletscheaprxmeds.com/?cid=bname</td>\n",
        "      <td>102</td>\n",
        "    </tr>\n",
        "    <tr>\n",
        "      <th>2</th>\n",
        "      <td>3</td>\n",
        "      <td>d5b54342994a335507e5820a249c7b54</td>\n",
        "      <td>http://imdrugstore.com</td>\n",
        "      <td>114</td>\n",
        "    </tr>\n",
        "    <tr>\n",
        "      <th>3</th>\n",
        "      <td>4</td>\n",
        "      <td>54ae846bb45f4104fdfb990d44ec33a2</td>\n",
        "      <td>http://www.medicwn.com/</td>\n",
        "      <td>114</td>\n",
        "    </tr>\n",
        "    <tr>\n",
        "      <th>4</th>\n",
        "      <td>5</td>\n",
        "      <td>c8c52ca6d843ac43697ac0ef39892ab3</td>\n",
        "      <td>http://www.encomedic.com/</td>\n",
        "      <td>114</td>\n",
        "    </tr>\n",
        "  </tbody>\n",
        "</table>\n",
        "</div>"
       ],
       "metadata": {},
       "output_type": "pyout",
       "prompt_number": 71,
       "text": [
        "   id                                fn  \\\n",
        "0   1  27048662974a61b8352a40b11f9ad1b4   \n",
        "1   2  0d4035c39f42ea082e8b877c91b19773   \n",
        "2   3  d5b54342994a335507e5820a249c7b54   \n",
        "3   4  54ae846bb45f4104fdfb990d44ec33a2   \n",
        "4   5  c8c52ca6d843ac43697ac0ef39892ab3   \n",
        "\n",
        "                                            url  affiliate  \n",
        "0                         http://squesotbyc.com        102  \n",
        "1  http://www.tabletscheaprxmeds.com/?cid=bname        102  \n",
        "2                        http://imdrugstore.com        114  \n",
        "3                       http://www.medicwn.com/        114  \n",
        "4                     http://www.encomedic.com/        114  "
       ]
      }
     ],
     "prompt_number": 71
    },
    {
     "cell_type": "code",
     "collapsed": false,
     "input": [
      "# Jaccard similarities\n",
      "\n",
      "df['fn1'] = df['fn1'].str.rstrip('.html')\n",
      "df['fn2'] = df['fn2'].str.rstrip('.html')\n",
      "\n",
      "df.head()"
     ],
     "language": "python",
     "metadata": {},
     "outputs": [
      {
       "html": [
        "<div style=\"max-height:1000px;max-width:1500px;overflow:auto;\">\n",
        "<table border=\"1\" class=\"dataframe\">\n",
        "  <thead>\n",
        "    <tr style=\"text-align: right;\">\n",
        "      <th></th>\n",
        "      <th>fn1</th>\n",
        "      <th>fn2</th>\n",
        "      <th>class_score</th>\n",
        "      <th>id_score</th>\n",
        "    </tr>\n",
        "  </thead>\n",
        "  <tbody>\n",
        "    <tr>\n",
        "      <th>0</th>\n",
        "      <td>00db5a9c0799e7a918cadf3de1b51890</td>\n",
        "      <td>0039a1ae9bee47353b1206513628369b</td>\n",
        "      <td>0.024194</td>\n",
        "      <td>0.000000</td>\n",
        "    </tr>\n",
        "    <tr>\n",
        "      <th>1</th>\n",
        "      <td>00db5a9c0799e7a918cadf3de1b51890</td>\n",
        "      <td>00a2bcd6ad6a8f76af8dae0a915b4a1b</td>\n",
        "      <td>0.031250</td>\n",
        "      <td>0.000000</td>\n",
        "    </tr>\n",
        "    <tr>\n",
        "      <th>2</th>\n",
        "      <td>00db5a9c0799e7a918cadf3de1b51890</td>\n",
        "      <td>00bbd4fec39e46f7a7f0acf15b2da669</td>\n",
        "      <td>0.986486</td>\n",
        "      <td>0.961538</td>\n",
        "    </tr>\n",
        "    <tr>\n",
        "      <th>3</th>\n",
        "      <td>00db5a9c0799e7a918cadf3de1b51890</td>\n",
        "      <td>00cb9c40eceecbc88aa67ed50b3af690</td>\n",
        "      <td>0.009009</td>\n",
        "      <td>0.027027</td>\n",
        "    </tr>\n",
        "    <tr>\n",
        "      <th>4</th>\n",
        "      <td>00db5a9c0799e7a918cadf3de1b51890</td>\n",
        "      <td>002ef29e0fb6d5f203d7a2a82ba283f3</td>\n",
        "      <td>0.000000</td>\n",
        "      <td>0.022222</td>\n",
        "    </tr>\n",
        "  </tbody>\n",
        "</table>\n",
        "</div>"
       ],
       "metadata": {},
       "output_type": "pyout",
       "prompt_number": 75,
       "text": [
        "                                fn1                               fn2  \\\n",
        "0  00db5a9c0799e7a918cadf3de1b51890  0039a1ae9bee47353b1206513628369b   \n",
        "1  00db5a9c0799e7a918cadf3de1b51890  00a2bcd6ad6a8f76af8dae0a915b4a1b   \n",
        "2  00db5a9c0799e7a918cadf3de1b51890  00bbd4fec39e46f7a7f0acf15b2da669   \n",
        "3  00db5a9c0799e7a918cadf3de1b51890  00cb9c40eceecbc88aa67ed50b3af690   \n",
        "4  00db5a9c0799e7a918cadf3de1b51890  002ef29e0fb6d5f203d7a2a82ba283f3   \n",
        "\n",
        "   class_score  id_score  \n",
        "0     0.024194  0.000000  \n",
        "1     0.031250  0.000000  \n",
        "2     0.986486  0.961538  \n",
        "3     0.009009  0.027027  \n",
        "4     0.000000  0.022222  "
       ]
      }
     ],
     "prompt_number": 75
    },
    {
     "cell_type": "code",
     "collapsed": false,
     "input": [
      "# Merging similarity scores with truth data\n",
      "\n",
      "left_data = pd.merge(df, tags, left_on='fn1', right_on='fn')\n",
      "all_data = pd.merge(left_data, tags, left_on='fn2', right_on='fn')\n",
      "\n",
      "all_data.drop(['fn_x', 'fn_y', 'id_x', 'id_y'], axis=1, inplace=True)\n",
      "\n",
      "# Generate columns indicating whether pairs of files were from the same affiliate\n",
      "\n",
      "all_data['same_site'] = all_data['url_x'] == all_data['url_y']\n",
      "all_data['same_affiliate'] = all_data['affiliate_x'] == all_data['affiliate_y']\n",
      "\n",
      "all_data.head()"
     ],
     "language": "python",
     "metadata": {},
     "outputs": [
      {
       "html": [
        "<div style=\"max-height:1000px;max-width:1500px;overflow:auto;\">\n",
        "<table border=\"1\" class=\"dataframe\">\n",
        "  <thead>\n",
        "    <tr style=\"text-align: right;\">\n",
        "      <th></th>\n",
        "      <th>fn1</th>\n",
        "      <th>fn2</th>\n",
        "      <th>class_score</th>\n",
        "      <th>id_score</th>\n",
        "      <th>url_x</th>\n",
        "      <th>affiliate_x</th>\n",
        "      <th>url_y</th>\n",
        "      <th>affiliate_y</th>\n",
        "      <th>same_site</th>\n",
        "      <th>same_affiliate</th>\n",
        "    </tr>\n",
        "  </thead>\n",
        "  <tbody>\n",
        "    <tr>\n",
        "      <th>0</th>\n",
        "      <td>00db5a9c0799e7a918cadf3de1b51890</td>\n",
        "      <td>0039a1ae9bee47353b1206513628369b</td>\n",
        "      <td>0.024194</td>\n",
        "      <td>0.000000</td>\n",
        "      <td>http://viperalarmguideenu.com</td>\n",
        "      <td>108</td>\n",
        "      <td>http://the-ukpharmacy.com</td>\n",
        "      <td>101</td>\n",
        "      <td>False</td>\n",
        "      <td>False</td>\n",
        "    </tr>\n",
        "    <tr>\n",
        "      <th>1</th>\n",
        "      <td>00db5a9c0799e7a918cadf3de1b51890</td>\n",
        "      <td>00a2bcd6ad6a8f76af8dae0a915b4a1b</td>\n",
        "      <td>0.031250</td>\n",
        "      <td>0.000000</td>\n",
        "      <td>http://viperalarmguideenu.com</td>\n",
        "      <td>108</td>\n",
        "      <td>http://mystoreforpills.com/</td>\n",
        "      <td>104</td>\n",
        "      <td>False</td>\n",
        "      <td>False</td>\n",
        "    </tr>\n",
        "    <tr>\n",
        "      <th>2</th>\n",
        "      <td>0039a1ae9bee47353b1206513628369b</td>\n",
        "      <td>00a2bcd6ad6a8f76af8dae0a915b4a1b</td>\n",
        "      <td>0.012821</td>\n",
        "      <td>0.000000</td>\n",
        "      <td>http://the-ukpharmacy.com</td>\n",
        "      <td>101</td>\n",
        "      <td>http://mystoreforpills.com/</td>\n",
        "      <td>104</td>\n",
        "      <td>False</td>\n",
        "      <td>False</td>\n",
        "    </tr>\n",
        "    <tr>\n",
        "      <th>3</th>\n",
        "      <td>00db5a9c0799e7a918cadf3de1b51890</td>\n",
        "      <td>00bbd4fec39e46f7a7f0acf15b2da669</td>\n",
        "      <td>0.986486</td>\n",
        "      <td>0.961538</td>\n",
        "      <td>http://viperalarmguideenu.com</td>\n",
        "      <td>108</td>\n",
        "      <td>http://tweleght20samothengs.com</td>\n",
        "      <td>108</td>\n",
        "      <td>False</td>\n",
        "      <td>True</td>\n",
        "    </tr>\n",
        "    <tr>\n",
        "      <th>4</th>\n",
        "      <td>0039a1ae9bee47353b1206513628369b</td>\n",
        "      <td>00bbd4fec39e46f7a7f0acf15b2da669</td>\n",
        "      <td>0.024194</td>\n",
        "      <td>0.000000</td>\n",
        "      <td>http://the-ukpharmacy.com</td>\n",
        "      <td>101</td>\n",
        "      <td>http://tweleght20samothengs.com</td>\n",
        "      <td>108</td>\n",
        "      <td>False</td>\n",
        "      <td>False</td>\n",
        "    </tr>\n",
        "  </tbody>\n",
        "</table>\n",
        "</div>"
       ],
       "metadata": {},
       "output_type": "pyout",
       "prompt_number": 76,
       "text": [
        "                                fn1                               fn2  \\\n",
        "0  00db5a9c0799e7a918cadf3de1b51890  0039a1ae9bee47353b1206513628369b   \n",
        "1  00db5a9c0799e7a918cadf3de1b51890  00a2bcd6ad6a8f76af8dae0a915b4a1b   \n",
        "2  0039a1ae9bee47353b1206513628369b  00a2bcd6ad6a8f76af8dae0a915b4a1b   \n",
        "3  00db5a9c0799e7a918cadf3de1b51890  00bbd4fec39e46f7a7f0acf15b2da669   \n",
        "4  0039a1ae9bee47353b1206513628369b  00bbd4fec39e46f7a7f0acf15b2da669   \n",
        "\n",
        "   class_score  id_score                          url_x  affiliate_x  \\\n",
        "0     0.024194  0.000000  http://viperalarmguideenu.com          108   \n",
        "1     0.031250  0.000000  http://viperalarmguideenu.com          108   \n",
        "2     0.012821  0.000000      http://the-ukpharmacy.com          101   \n",
        "3     0.986486  0.961538  http://viperalarmguideenu.com          108   \n",
        "4     0.024194  0.000000      http://the-ukpharmacy.com          101   \n",
        "\n",
        "                             url_y  affiliate_y same_site same_affiliate  \n",
        "0        http://the-ukpharmacy.com          101     False          False  \n",
        "1      http://mystoreforpills.com/          104     False          False  \n",
        "2      http://mystoreforpills.com/          104     False          False  \n",
        "3  http://tweleght20samothengs.com          108     False           True  \n",
        "4  http://tweleght20samothengs.com          108     False          False  "
       ]
      }
     ],
     "prompt_number": 76
    },
    {
     "cell_type": "markdown",
     "metadata": {},
     "source": [
      "##Analysis\n",
      "\n",
      "How well do these Jaccard similarity scores match the truth data? We have to first decide where to draw the line. These plots below show the distribution of Jaccard similarity scores across `class` attributes and `id` attributes."
     ]
    },
    {
     "cell_type": "code",
     "collapsed": false,
     "input": [
      "import seaborn as sns\n",
      "\n",
      "sns.boxplot(all_data.class_score, groupby=all_data.same_affiliate)"
     ],
     "language": "python",
     "metadata": {},
     "outputs": [
      {
       "metadata": {},
       "output_type": "pyout",
       "prompt_number": 66,
       "text": [
        "<matplotlib.axes._subplots.AxesSubplot at 0x7fb99c9492d0>"
       ]
      },
      {
       "metadata": {},
       "output_type": "display_data",
       "png": "[encoded data removed]",
       "text": [
        "<matplotlib.figure.Figure at 0x7fb99ca61410>"
       ]
      }
     ],
     "prompt_number": 66
    },
    {
     "cell_type": "code",
     "collapsed": false,
     "input": [
      "sns.boxplot(all_data.id_score, groupby=all_data.same_affiliate)"
     ],
     "language": "python",
     "metadata": {},
     "outputs": [
      {
       "metadata": {},
       "output_type": "pyout",
       "prompt_number": 67,
       "text": [
        "<matplotlib.axes._subplots.AxesSubplot at 0x7fb99ca379d0>"
       ]
      },
      {
       "metadata": {},
       "output_type": "display_data",
       "png": "[encoded data removed]",
       "text": [
        "<matplotlib.figure.Figure at 0x7fb99c3df310>"
       ]
      }
     ],
     "prompt_number": 67
    },
    {
     "cell_type": "markdown",
     "metadata": {},
     "source": [
      "Websites from different affiliate programs rarely overlap more than 0.1 in `class` attributes, and no more than 0.2 in `id`. In general, `class` is a more robust signal, but they can be combined (as done below).\n",
      "\n",
      "We can be extremely confident that sites with high Jaccard scores to be from the same affiliate program. However, as can be seen in the overlap over the low end of the scores above, we cannot be as certain when a pair of sites have low Jaccard similarity."
     ]
    },
    {
     "cell_type": "code",
     "collapsed": false,
     "input": [
      "all_data['predicted_same_affiliate'] = (all_data.class_score > 0.1) | (all_data.id_score > 0.2)\n",
      "\n",
      "# Recall:\n",
      "all_data[all_data.predicted_same_affiliate].same_affiliate.sum() / float(all_data.same_affiliate.sum())"
     ],
     "language": "python",
     "metadata": {},
     "outputs": [
      {
       "metadata": {},
       "output_type": "pyout",
       "prompt_number": 68,
       "text": [
        "0.87878787878787878"
       ]
      }
     ],
     "prompt_number": 68
    },
    {
     "cell_type": "code",
     "collapsed": false,
     "input": [
      "# Precision:\n",
      "all_data[all_data.predicted_same_affiliate].same_affiliate.sum() / float(all_data.predicted_same_affiliate.sum())"
     ],
     "language": "python",
     "metadata": {},
     "outputs": [
      {
       "metadata": {},
       "output_type": "pyout",
       "prompt_number": 69,
       "text": [
        "1.0"
       ]
      }
     ],
     "prompt_number": 69
    },
    {
     "cell_type": "markdown",
     "metadata": {},
     "source": [
      "Is there a pattern among which affiliate programs are less identifiable by css identifiers? Note the first column below is a numerical ID representing the program. The affiliate program these numerical IDs are associated with can be found in `tag2name.map`."
     ]
    },
    {
     "cell_type": "code",
     "collapsed": false,
     "input": [
      "all_data[all_data.same_affiliate & all_data.predicted_same_affiliate].affiliate_x.value_counts()"
     ],
     "language": "python",
     "metadata": {},
     "outputs": [
      {
       "metadata": {},
       "output_type": "pyout",
       "prompt_number": 65,
       "text": [
        "114    325\n",
        "104    325\n",
        "102    276\n",
        "123    135\n",
        "101     86\n",
        "108     78\n",
        "109     66\n",
        "131     12\n",
        "132      1\n",
        "129      1\n",
        "dtype: int64"
       ]
      }
     ],
     "prompt_number": 65
    },
    {
     "cell_type": "code",
     "collapsed": false,
     "input": [
      "all_data[all_data.same_affiliate & ~all_data.predicted_same_affiliate].affiliate_x.value_counts()"
     ],
     "language": "python",
     "metadata": {},
     "outputs": [
      {
       "metadata": {},
       "output_type": "pyout",
       "prompt_number": 64,
       "text": [
        "101    145\n",
        "104     26\n",
        "131      9\n",
        "dtype: int64"
       ]
      }
     ],
     "prompt_number": 64
    },
    {
     "cell_type": "code",
     "collapsed": false,
     "input": [
      "# Before adding in the id_score:\n",
      "all_data[all_data.predicted_same_affiliate].same_affiliate.sum() / float(all_data.same_affiliate.sum())"
     ],
     "language": "python",
     "metadata": {},
     "outputs": [
      {
       "metadata": {},
       "output_type": "pyout",
       "prompt_number": 46,
       "text": [
        "0.84377104377104373"
       ]
      }
     ],
     "prompt_number": 46
    },
    {
     "cell_type": "code",
     "collapsed": false,
     "input": [
      "all_data[~all_data.same_affiliate].id_score.describe()"
     ],
     "language": "python",
     "metadata": {},
     "outputs": [
      {
       "metadata": {},
       "output_type": "pyout",
       "prompt_number": 51,
       "text": [
        "count    10449.000000\n",
        "mean         0.015899\n",
        "std          0.025078\n",
        "min          0.000000\n",
        "25%          0.000000\n",
        "50%          0.000000\n",
        "75%          0.026667\n",
        "max          0.176471\n",
        "Name: id_score, dtype: float64"
       ]
      }
     ],
     "prompt_number": 51
    }
   ],
   "metadata": {}
  }
 ]
}